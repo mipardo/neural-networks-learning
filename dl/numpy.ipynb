{
 "cells": [
  {
   "cell_type": "markdown",
   "id": "b6c980aa",
   "metadata": {},
   "source": [
    "\n",
    "# Introducción a NumPy\n",
    "\n",
    "NumPy es una librería fundamental para la comutación científica con Python ya que proporciona estructuras de datos muy útiles, como las listas o *arrays* N-dimensionales, también implementa funciones matemáticas sofisticadas y ofrece mecanismos para facilitar la realización de tareas relacionadas con álgebra lineal o números aleatorios. \n",
    "\n",
    "## Instalación e importación de la librería\n",
    "\n",
    "Para instalar NumPy simplemente debemos utilizar el gestor de paquetes de Python: pip o pip3. \n",
    "\n",
    "```console\n",
    "$ pip3 install numpy\n",
    "```\n",
    "\n",
    "Una vez instalada, podemos importarla en nuestro código. Suele ser habitual abreviar la librería como *np* tal y como se indica a continuación:"
   ]
  },
  {
   "cell_type": "code",
   "execution_count": 1,
   "id": "c0cdf798",
   "metadata": {},
   "outputs": [],
   "source": [
    "import numpy as np"
   ]
  },
  {
   "cell_type": "markdown",
   "id": "0a74e30c",
   "metadata": {},
   "source": [
    "## *Arrays*\n",
    "\n",
    "Un *array* es una estructura de datos que consiste en una colección de elementos (valores o variables), cada uno identificado por al menos un índice o clave. Un array se almacena de modo que la posición de cada elemento se pueda calcular a partir de su tupla de índice mediante una fórmula matemática. El tipo de *array* más simple es el lineal, también denominado como *array* unidimensional.\n",
    "\n",
    "En NumPy: \n",
    "\n",
    "+ Cada dimensión se denomina *axis*.\n",
    "+ El número de dimensiones se denomina *rank*.\n",
    "+ La lista de dimensiones con su correspondiente longitud se denomina *shape*.\n",
    "+ El número total de elemntos se denomina *size*. "
   ]
  },
  {
   "cell_type": "markdown",
   "id": "8b511613",
   "metadata": {},
   "source": [
    "A continuación vamos a crear un array de dos *axis* o dimensiones con todos los valoores inicializados a cero. La primera dimensión del array va a ser de longitud dos y la otra de longitud cuatro.  "
   ]
  },
  {
   "cell_type": "code",
   "execution_count": 2,
   "id": "a56f8934",
   "metadata": {
    "scrolled": true
   },
   "outputs": [
    {
     "name": "stdout",
     "output_type": "stream",
     "text": [
      "Array: [[0. 0. 0. 0.]\n",
      " [0. 0. 0. 0.]]\n",
      "Shape: (2, 4)\n",
      "Rank: 2\n",
      "Size: 8\n"
     ]
    }
   ],
   "source": [
    "a = np.zeros((2, 4)) \n",
    "\n",
    "print(f\"Array: {a}\")\n",
    "print(f\"Shape: {a.shape}\")\n",
    "print(f\"Rank: {a.ndim}\")\n",
    "print(f\"Size: {a.size}\")"
   ]
  },
  {
   "cell_type": "markdown",
   "id": "80768943",
   "metadata": {},
   "source": [
    "### Creación de *Arrays*\n",
    "\n",
    "Creación de un array cuyos valores son todos cero:"
   ]
  },
  {
   "cell_type": "code",
   "execution_count": 3,
   "id": "99da53a4",
   "metadata": {},
   "outputs": [
    {
     "data": {
      "text/plain": [
       "array([[[0., 0., 0., 0.],\n",
       "        [0., 0., 0., 0.],\n",
       "        [0., 0., 0., 0.]],\n",
       "\n",
       "       [[0., 0., 0., 0.],\n",
       "        [0., 0., 0., 0.],\n",
       "        [0., 0., 0., 0.]]])"
      ]
     },
     "execution_count": 3,
     "metadata": {},
     "output_type": "execute_result"
    }
   ],
   "source": [
    "np.zeros((2, 3, 4))"
   ]
  },
  {
   "cell_type": "markdown",
   "id": "fce6c26e",
   "metadata": {},
   "source": [
    "Creación de un array cuyos valores son todos uno:"
   ]
  },
  {
   "cell_type": "code",
   "execution_count": 4,
   "id": "7fcd88a0",
   "metadata": {},
   "outputs": [
    {
     "data": {
      "text/plain": [
       "array([[[1., 1., 1., 1.],\n",
       "        [1., 1., 1., 1.],\n",
       "        [1., 1., 1., 1.]],\n",
       "\n",
       "       [[1., 1., 1., 1.],\n",
       "        [1., 1., 1., 1.],\n",
       "        [1., 1., 1., 1.]]])"
      ]
     },
     "execution_count": 4,
     "metadata": {},
     "output_type": "execute_result"
    }
   ],
   "source": [
    "np.ones((2, 3, 4))"
   ]
  },
  {
   "cell_type": "markdown",
   "id": "ce9c768e",
   "metadata": {},
   "source": [
    "Creación de un array cuyos valores son todos el indicado como segundo parámetro de la función:"
   ]
  },
  {
   "cell_type": "code",
   "execution_count": 5,
   "id": "44951fbc",
   "metadata": {},
   "outputs": [
    {
     "data": {
      "text/plain": [
       "array([[[8, 8, 8, 8],\n",
       "        [8, 8, 8, 8],\n",
       "        [8, 8, 8, 8]],\n",
       "\n",
       "       [[8, 8, 8, 8],\n",
       "        [8, 8, 8, 8],\n",
       "        [8, 8, 8, 8]]])"
      ]
     },
     "execution_count": 5,
     "metadata": {},
     "output_type": "execute_result"
    }
   ],
   "source": [
    "np.full((2, 3, 4), 8)"
   ]
  },
  {
   "cell_type": "markdown",
   "id": "fdcbe76a",
   "metadata": {},
   "source": [
    "También podemos crear un array utilizando la función *empty*, pero es importante tener en cuenta que dicha función inicializa los valores del array con lo que haya en memoria en ese momento, dando lugar a un resultado impredecible."
   ]
  },
  {
   "cell_type": "code",
   "execution_count": 6,
   "id": "3a98506c",
   "metadata": {},
   "outputs": [
    {
     "data": {
      "text/plain": [
       "array([[[ 4.65685202e-310,  0.00000000e+000,  5.95445514e-299],\n",
       "        [-7.76411846e+231,  8.20418162e-304,  5.35401410e-256],\n",
       "        [ 2.36723111e-184, -5.51768826e+116,  2.69789301e+008]],\n",
       "\n",
       "       [[ 8.16712490e-302, -8.56321222e+232,  1.78189512e+212],\n",
       "        [ 7.93907005e-304, -3.94315031e+236, -2.17407987e+232],\n",
       "        [ 1.78189512e+212,  7.93907005e-304,  6.93696708e-310]]])"
      ]
     },
     "execution_count": 6,
     "metadata": {},
     "output_type": "execute_result"
    }
   ],
   "source": [
    "np.empty((2, 3, 3))"
   ]
  },
  {
   "cell_type": "markdown",
   "id": "af30a6f1",
   "metadata": {},
   "source": [
    "Creación del array a partir de una lista de Python:"
   ]
  },
  {
   "cell_type": "code",
   "execution_count": 7,
   "id": "ab17c6e1",
   "metadata": {},
   "outputs": [
    {
     "data": {
      "text/plain": [
       "array([1, 2, 3, 4])"
      ]
     },
     "execution_count": 7,
     "metadata": {},
     "output_type": "execute_result"
    }
   ],
   "source": [
    "np.array([1, 2, 3, 4])"
   ]
  },
  {
   "cell_type": "markdown",
   "id": "9e071f95",
   "metadata": {},
   "source": [
    "Creación del array utilizando una función basada en rangos utilizando *linspace(start, stop, size)*"
   ]
  },
  {
   "cell_type": "code",
   "execution_count": 8,
   "id": "d9a7bdfd",
   "metadata": {},
   "outputs": [
    {
     "data": {
      "text/plain": [
       "array([1. , 1.5, 2. , 2.5, 3. , 3.5, 4. , 4.5, 5. ])"
      ]
     },
     "execution_count": 8,
     "metadata": {},
     "output_type": "execute_result"
    }
   ],
   "source": [
    "np.linspace(1, 5, 9)"
   ]
  },
  {
   "cell_type": "markdown",
   "id": "23c3c064",
   "metadata": {},
   "source": [
    "La librería NumPy proporciona diferentes funciones para generar números aleatorios, entre ellas se encuentran *random.rand* y *random.randn*. La primera función genera un *array* con el *shape* indicado cuyos valores son números aleatorios que siguen una distribución uniforme en el rango entre cero y uno. Que siga una distribución uniforme  significa que todos los valores tienen la misma probabilidad de ser presentados."
   ]
  },
  {
   "cell_type": "code",
   "execution_count": 9,
   "id": "17e8acc6",
   "metadata": {},
   "outputs": [
    {
     "data": {
      "text/plain": [
       "array([[0.06698394, 0.3626397 ],\n",
       "       [0.63379966, 0.50589667]])"
      ]
     },
     "execution_count": 9,
     "metadata": {},
     "output_type": "execute_result"
    }
   ],
   "source": [
    "np.random.rand(2, 2)"
   ]
  },
  {
   "cell_type": "markdown",
   "id": "3e0c318f",
   "metadata": {},
   "source": [
    "Por otra parte, la función *random.randn* genera un *array* siguiendo el *shape* indicado, cuyos valores son números aleatorios que siguen una distribución normal o gausiana con media 0 y desviación estándar 1."
   ]
  },
  {
   "cell_type": "code",
   "execution_count": 10,
   "id": "b99fb0b0",
   "metadata": {},
   "outputs": [
    {
     "data": {
      "text/plain": [
       "array([[-0.71012464, -1.00219759],\n",
       "       [ 1.03102945, -0.14931715]])"
      ]
     },
     "execution_count": 10,
     "metadata": {},
     "output_type": "execute_result"
    }
   ],
   "source": [
    "np.random.randn(2, 2)"
   ]
  },
  {
   "cell_type": "code",
   "execution_count": 38,
   "id": "747714e1",
   "metadata": {},
   "outputs": [
    {
     "data": {
      "image/png": "[encoded data removed]",
      "text/plain": [
       "<Figure size 1200x600 with 2 Axes>"
      ]
     },
     "metadata": {},
     "output_type": "display_data"
    }
   ],
   "source": [
    "import matplotlib.pyplot as plt\n",
    "\n",
    "gaussian_data = np.random.randn(10000)\n",
    "uniform_data = np.random.rand(10000)\n",
    "\n",
    "fig, axes = plt.subplots(1, 2, figsize=(12, 6))\n",
    "\n",
    "axes[0].hist(uniform_data, bins=100, alpha=0.7, color=\"red\")\n",
    "axes[0].set_xlabel(\"Valores\")\n",
    "axes[0].set_ylabel(\"Frecuencia\")\n",
    "\n",
    "axes[1].hist(gaussian_data, bins=100, alpha=0.7, color=\"blue\")\n",
    "axes[1].set_xlabel(\"Valores\")\n",
    "axes[1].set_ylabel(\"Frecuencia\")\n",
    "\n",
    "plt.show()"
   ]
  },
  {
   "cell_type": "markdown",
   "id": "a147ba9f",
   "metadata": {},
   "source": [
    "## Acceso a los elementos de un *array*\n",
    "\n",
    "### Sobre un array unidimensional\n",
    "\n",
    "Los accesos a un array unidimensional funciona de la misma forma que una lista de Python. Siendo posible también realizar las operaciones clasicas de slice y stride."
   ]
  },
  {
   "cell_type": "code",
   "execution_count": 11,
   "id": "9cfb6c57",
   "metadata": {},
   "outputs": [
    {
     "name": "stdout",
     "output_type": "stream",
     "text": [
      "2\n",
      "[5 7]\n",
      "[1 7]\n"
     ]
    }
   ],
   "source": [
    "array = np.array([1, 2, 5, 7, 9, 11])\n",
    "\n",
    "print(array[1])     # Accediendo al elemento de índice 1 del array\n",
    "print(array[2:4])   # Accediendo al tercer y cuarto elemento del array\n",
    "print(array[0::3])  # Accediendo a los elementos de índice % 3 == 0"
   ]
  },
  {
   "cell_type": "markdown",
   "id": "0b6fe37b",
   "metadata": {},
   "source": [
    "### Sobre un array multidemnsional\n",
    "\n",
    "En lo que se refiere a los accesos de un array multidimensional si cambia respecto a la notación de una lista anidada. "
   ]
  },
  {
   "cell_type": "code",
   "execution_count": 12,
   "id": "6008ac4b",
   "metadata": {},
   "outputs": [
    {
     "name": "stdout",
     "output_type": "stream",
     "text": [
      "4\n",
      "[1 2 3 4]\n",
      "[3 7]\n"
     ]
    }
   ],
   "source": [
    "array = np.array([[1, 2, 3, 4], [5, 6, 7, 8]])\n",
    "\n",
    "print(array[0, 3])   # Accediendo a la fila 0 y al elemento/columna 3 de dicha fila\n",
    "print(array[0, :])   # Accediendo a la primera fila\n",
    "print(array[0:2, 2]) # Accediendo a los elementos de índice 2 de las dos filas "
   ]
  },
  {
   "cell_type": "markdown",
   "id": "ca10fcbf",
   "metadata": {},
   "source": [
    "## Modificación de un Array\n",
    "\n",
    "Evidentemente, al igual que las listas de Python, los Arrays de numpy son mutables, lo que nos permite añadir elementos o modificar la estructura en tiempo de ejecución. Por ejemplo, a continuación vamos a ver como podemos cambiar las dimensiones del array de forma muy sencilla. Es importante tener en cuenta, que al realizar la siguiente operación u operaciones del tipo reshape, se nos está devolviendo una referencia del primer array, lo que implica que los cambios realizados en el nuevo array van a afectar al primer array. "
   ]
  },
  {
   "cell_type": "code",
   "execution_count": 37,
   "id": "9b8b1964",
   "metadata": {},
   "outputs": [
    {
     "name": "stdout",
     "output_type": "stream",
     "text": [
      "[ 0  1  2  3  4  5  6  7  8  9 10 11 12 13 14 15 16 17 18 19]\n",
      "\n",
      "[[ 0  1  2  3  4  5  6  7  8  9]\n",
      " [10 11 12 13 14 15 16 17 18 19]]\n"
     ]
    }
   ],
   "source": [
    "array = np.arange(20)\n",
    "print(array)\n",
    "print()\n",
    "array.shape = (2, 10) \n",
    "print(array)"
   ]
  },
  {
   "cell_type": "markdown",
   "id": "b9877536",
   "metadata": {},
   "source": [
    "## Operaciones aritméticas "
   ]
  },
  {
   "cell_type": "code",
   "execution_count": 42,
   "id": "deb2a13f",
   "metadata": {},
   "outputs": [
    {
     "name": "stdout",
     "output_type": "stream",
     "text": [
      "Array_a: [ 2  4  6  8 10 12 14 16]\n",
      "Array_b: [0 1 2 3 4 5 6 7]\n",
      "Add:     [ 2  5  8 11 14 17 20 23]\n",
      "Sub:     [2 3 4 5 6 7 8 9]\n",
      "Mul:     [  0   4  12  24  40  60  84 112]\n"
     ]
    }
   ],
   "source": [
    "array_a = np.arange(2, 18, 2)\n",
    "array_b = np.arange(8)\n",
    "\n",
    "print(f\"Array_a: {array_a}\")\n",
    "print(f\"Array_b: {array_b}\")\n",
    "print(f\"Add:     {array_a + array_b}\")\n",
    "print(f\"Sub:     {array_a - array_b}\")\n",
    "print(f\"Mul:     {array_a * array_b}\")"
   ]
  },
  {
   "cell_type": "markdown",
   "id": "4b731726",
   "metadata": {},
   "source": [
    "## Broadcasting\n",
    "\n",
    "Cuando se realizan operaciones aritméticas sobre Arrays que no tienen la misma forma (*shape*), Numpy aplica una propiedad que se denomina *broadcasting*. Básicamente, esta operación consiste en duplicar o ampliar el array de menor tamaño para poder realizar el cálculo aritmético."
   ]
  },
  {
   "cell_type": "code",
   "execution_count": 41,
   "id": "be50999f",
   "metadata": {},
   "outputs": [
    {
     "name": "stdout",
     "output_type": "stream",
     "text": [
      "Array_a: [0 1 2 3 4]\n",
      "Array_b: [1]\n",
      "Sum:     [1 2 3 4 5]\n"
     ]
    }
   ],
   "source": [
    "array_a = np.arange(5)\n",
    "array_b = np.array([1])\n",
    "\n",
    "print(f\"Array_a: {array_a}\")\n",
    "print(f\"Array_b: {array_b}\")\n",
    "print(f\"Sum:     {array_a + array_b}\")"
   ]
  },
  {
   "cell_type": "markdown",
   "id": "d37a6bdf",
   "metadata": {},
   "source": [
    "## Funciones estadísticas sobre Arrays\n",
    "\n",
    "Existen una serie de funciones u operaciones que podemos realizar sobre nuestros arrays que nos sirven para calcular la media de los elementos, la suma, obtener el máximo y el mínimo de los elementos, etc."
   ]
  },
  {
   "cell_type": "code",
   "execution_count": 44,
   "id": "8f8ec6e0",
   "metadata": {},
   "outputs": [
    {
     "name": "stdout",
     "output_type": "stream",
     "text": [
      "10.0\n",
      "100\n",
      "19\n"
     ]
    }
   ],
   "source": [
    "array = np.arange(1, 20, 2)\n",
    "print(array.mean()) # Media de los elementos del array\n",
    "print(array.sum())  # Suma de los elemento del array\n",
    "print(array.max())  # Valor máximo de los elementos del array"
   ]
  },
  {
   "cell_type": "markdown",
   "id": "11272884",
   "metadata": {},
   "source": [
    "Además, Numpy también proporciona una serie de funciones universales implementadas de forma eficiente conocidas como *ufunc*, de *universal functions*."
   ]
  },
  {
   "cell_type": "code",
   "execution_count": 45,
   "id": "da1865ec",
   "metadata": {},
   "outputs": [
    {
     "name": "stdout",
     "output_type": "stream",
     "text": [
      "[  1   9  25  49  81 121 169 225 289 361]\n",
      "[1.         1.73205081 2.23606798 2.64575131 3.         3.31662479\n",
      " 3.60555128 3.87298335 4.12310563 4.35889894]\n",
      "[2.71828183e+00 2.00855369e+01 1.48413159e+02 1.09663316e+03\n",
      " 8.10308393e+03 5.98741417e+04 4.42413392e+05 3.26901737e+06\n",
      " 2.41549528e+07 1.78482301e+08]\n",
      "[0.         1.09861229 1.60943791 1.94591015 2.19722458 2.39789527\n",
      " 2.56494936 2.7080502  2.83321334 2.94443898]\n"
     ]
    }
   ],
   "source": [
    "print(np.square(array)) # Potencia de los elementos del array\n",
    "print(np.sqrt(array))   # Raíz cuadrada de los elementos del array\n",
    "print(np.exp(array))    # Exponente de los elementos del array\n",
    "print(np.log(array))    # Logaritmo de los elementos del array"
   ]
  }
 ],
 "metadata": {
  "kernelspec": {
   "display_name": "Python 3 (ipykernel)",
   "language": "python",
   "name": "python3"
  },
  "language_info": {
   "codemirror_mode": {
    "name": "ipython",
    "version": 3
   },
   "file_extension": ".py",
   "mimetype": "text/x-python",
   "name": "python",
   "nbconvert_exporter": "python",
   "pygments_lexer": "ipython3",
   "version": "3.11.3"
  }
 },
 "nbformat": 4,
 "nbformat_minor": 5
}
