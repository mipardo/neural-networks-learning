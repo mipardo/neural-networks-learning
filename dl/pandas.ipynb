{
 "cells": [
  {
   "cell_type": "markdown",
   "id": "a2dbc4fe",
   "metadata": {},
   "source": [
    "# Introducción a Pandas\n",
    "\n",
    "Pandas es una librería que proporciona estructuras de datos y herramientas de análisis de datos de alto rendimiento y fáciles de usar. La estructura de datos principal que proporciona la librería es el DataFrame, que puede considerarse como una tabla o una hoja de cálculo con nombres de columna, etiquetas de fila, columnas y filas. Proporciona una funciones muy optmizadas para manipular grandes conjuntos de datos.\n",
    "\n",
    "## Instalación e importación de la librería\n",
    "\n",
    "Para instalar Pandas simplemente debemos utilizar el gestor de paquetes de Python: pip o pip3. \n",
    "\n",
    "```console\n",
    "$ pip3 install pandas\n",
    "```\n",
    "\n",
    "Una vez instalada, podemos importarla en nuestro código. Suele ser habitual abreviar la librería como *pd* tal y como se indica a continuación:"
   ]
  },
  {
   "cell_type": "code",
   "execution_count": 1,
   "id": "480dcbec",
   "metadata": {},
   "outputs": [],
   "source": [
    "import pandas as pd"
   ]
  },
  {
   "cell_type": "markdown",
   "id": "82731449",
   "metadata": {},
   "source": [
    "## Estructuras de datos en Pandas\n",
    "\n",
    "La librería Pandas, de manera genérica, contiene las siguientes estructuras de datos: \n",
    "\n",
    "+ *Series*: Array de una dimensión\n",
    "+ *DataFrame*: Se corresponde con una tabla\n",
    "+ *Panel*: Siminar a un diccionario de DataFrames\n",
    "\n",
    "### Estructura de datos Series\n",
    "\n",
    "#### Creación"
   ]
  },
  {
   "cell_type": "code",
   "execution_count": 2,
   "id": "cec59d69",
   "metadata": {},
   "outputs": [
    {
     "data": {
      "text/plain": [
       "0     2\n",
       "1     4\n",
       "2     6\n",
       "3     8\n",
       "4    10\n",
       "dtype: int64"
      ]
     },
     "execution_count": 2,
     "metadata": {},
     "output_type": "execute_result"
    }
   ],
   "source": [
    "pd.Series([2, 4, 6, 8, 10])"
   ]
  },
  {
   "cell_type": "markdown",
   "id": "beb9da6e",
   "metadata": {},
   "source": [
    "También podemos crear objetos Series a partir de un diccionario de Python. Esta vez, la serie creada contará con las claves del diccionario como índice de la serie, en vez de ser la posición de la lista como ocurría al crear una Serie a partir de listas de Python"
   ]
  },
  {
   "cell_type": "code",
   "execution_count": 3,
   "id": "d61c4ef8",
   "metadata": {},
   "outputs": [
    {
     "data": {
      "text/plain": [
       "Diego     178\n",
       "Juan      181\n",
       "Julia     165\n",
       "Andrea    162\n",
       "dtype: int64"
      ]
     },
     "execution_count": 3,
     "metadata": {},
     "output_type": "execute_result"
    }
   ],
   "source": [
    "alturas = {\"Diego\": 178, \"Juan\": 181, \"Julia\": 165, \"Andrea\": 162}\n",
    "pd.Series(alturas)"
   ]
  },
  {
   "cell_type": "markdown",
   "id": "586192c7",
   "metadata": {},
   "source": [
    "Incluso podemos crear un objeto Series a partir de un diccionario pero utilizando sólo algunos de los elementos del diccionario:"
   ]
  },
  {
   "cell_type": "code",
   "execution_count": 4,
   "id": "82dd63fa",
   "metadata": {},
   "outputs": [
    {
     "data": {
      "text/plain": [
       "Juan     181\n",
       "Julia    165\n",
       "dtype: int64"
      ]
     },
     "execution_count": 4,
     "metadata": {},
     "output_type": "execute_result"
    }
   ],
   "source": [
    "pd.Series(alturas, index=[\"Juan\", \"Julia\"])"
   ]
  },
  {
   "cell_type": "markdown",
   "id": "df609b36",
   "metadata": {},
   "source": [
    "Podemos también crear un objeto Series a partir de un escalar"
   ]
  },
  {
   "cell_type": "code",
   "execution_count": 5,
   "id": "66da961e",
   "metadata": {},
   "outputs": [
    {
     "data": {
      "text/plain": [
       "a    3\n",
       "b    3\n",
       "c    3\n",
       "dtype: int64"
      ]
     },
     "execution_count": 5,
     "metadata": {},
     "output_type": "execute_result"
    }
   ],
   "source": [
    "pd.Series(3, [\"a\", \"b\", \"c\"])"
   ]
  },
  {
   "cell_type": "markdown",
   "id": "83fdcbde",
   "metadata": {},
   "source": [
    "#### Acceso a los elementos de un objeto Series\n",
    "\n",
    "Cada elemento de un objeto Series tiene un identificador único que se denomina *index label*. \n",
    "La ventaja que plantea este objeto Series radica en que podemos acceder mediante el índice que define el diccionario y también por la posición o índice numérico de la serie tal y cómo se muestra a continuación: "
   ]
  },
  {
   "cell_type": "code",
   "execution_count": 6,
   "id": "ffc59c03",
   "metadata": {},
   "outputs": [
    {
     "name": "stdout",
     "output_type": "stream",
     "text": [
      "3\n",
      "3\n"
     ]
    }
   ],
   "source": [
    "s = pd.Series([2, 3, 4, 5, 7], index=[\"a\", \"b\", \"c\", \"d\", \"f\"])\n",
    "print(s[\"b\"])\n",
    "print(s[1])"
   ]
  },
  {
   "cell_type": "markdown",
   "id": "5d941fb1",
   "metadata": {},
   "source": [
    "Por convención, es recomendable acceder a los elementos de un objeto Series mediante los atributos *loc* e *iloc* en vez de utilizar la convención representada en el bloque anterior, aunque a efectos prácticos es equivalente. Por tanto, utilizaremos *loc* para acceder al elemento a través de su índice o atributo y utilizaremos *iloc* para acceder al elemento a través de su índice numérico o su posición en el objeto. "
   ]
  },
  {
   "cell_type": "code",
   "execution_count": 7,
   "id": "ab02b4bb",
   "metadata": {},
   "outputs": [
    {
     "name": "stdout",
     "output_type": "stream",
     "text": [
      "3\n",
      "3\n"
     ]
    }
   ],
   "source": [
    "print(s.loc[\"b\"])\n",
    "print(s.iloc[1])"
   ]
  },
  {
   "cell_type": "markdown",
   "id": "83d90748",
   "metadata": {},
   "source": [
    "Hacer uso de iloc nos permite hacer también las típicas operaciones de slicing como:"
   ]
  },
  {
   "cell_type": "code",
   "execution_count": 8,
   "id": "b7bf2810",
   "metadata": {},
   "outputs": [
    {
     "name": "stdout",
     "output_type": "stream",
     "text": [
      "b    3\n",
      "c    4\n",
      "dtype: int64\n"
     ]
    }
   ],
   "source": [
    "print(s.iloc[1:3])"
   ]
  },
  {
   "cell_type": "markdown",
   "id": "8cb66136",
   "metadata": {},
   "source": [
    "#### Operacions aritméticas con Series"
   ]
  },
  {
   "cell_type": "markdown",
   "id": "32365961",
   "metadata": {},
   "source": [
    "Podemos utilizar todas las funciones universales que nos ofrece la librería *NumPy* para realizar operaciones con objetos de Pandas, como por ejemplo:"
   ]
  },
  {
   "cell_type": "code",
   "execution_count": 9,
   "id": "dc6516d1",
   "metadata": {},
   "outputs": [
    {
     "name": "stdout",
     "output_type": "stream",
     "text": [
      "21\n",
      "7\n"
     ]
    }
   ],
   "source": [
    "import numpy as np\n",
    "\n",
    "print(np.sum(s))\n",
    "print(np.max(s))"
   ]
  },
  {
   "cell_type": "markdown",
   "id": "7a8fe308",
   "metadata": {},
   "source": [
    "Además, también contamos con todas las operaciones aritméticas básicas de suma, resta, multiplicación y división. En este caso se comportan de la misma forma que hemos visto con la estructura *array*. Es decir, las operaciones se realizan elemento a elemento. "
   ]
  },
  {
   "cell_type": "code",
   "execution_count": 10,
   "id": "19ee2a8d",
   "metadata": {},
   "outputs": [
    {
     "name": "stdout",
     "output_type": "stream",
     "text": [
      "series_a: \n",
      "0    1\n",
      "1    2\n",
      "2    3\n",
      "3    4\n",
      "dtype: int64\n",
      "\n",
      "series_b: \n",
      "0    2\n",
      "1    3\n",
      "2    4\n",
      "3    5\n",
      "dtype: int64\n",
      "\n",
      "Add: \n",
      "0    3\n",
      "1    5\n",
      "2    7\n",
      "3    9\n",
      "dtype: int64\n",
      "\n",
      "Sub: \n",
      "0   -1\n",
      "1   -1\n",
      "2   -1\n",
      "3   -1\n",
      "dtype: int64\n",
      "\n",
      "Mul: \n",
      "0     2\n",
      "1     6\n",
      "2    12\n",
      "3    20\n",
      "dtype: int64\n"
     ]
    }
   ],
   "source": [
    "series_a = pd.Series([1, 2, 3, 4]) \n",
    "series_b = pd.Series([2, 3, 4, 5]) \n",
    "\n",
    "print(f\"series_a: \\n{series_a}\")\n",
    "print()\n",
    "print(f\"series_b: \\n{series_b}\")\n",
    "print()\n",
    "print(f\"Add: \\n{series_a + series_b}\")\n",
    "print()\n",
    "print(f\"Sub: \\n{series_a - series_b}\")\n",
    "print()\n",
    "print(f\"Mul: \\n{series_a * series_b}\")"
   ]
  },
  {
   "cell_type": "markdown",
   "id": "73363bee",
   "metadata": {},
   "source": [
    "### Estructura de datos DataFrame\n",
    "\n",
    "#### Creación de un objeto DataFrame\n",
    "\n",
    "A partir de objetos series"
   ]
  },
  {
   "cell_type": "code",
   "execution_count": 11,
   "id": "17e709d2",
   "metadata": {},
   "outputs": [
    {
     "data": {
      "text/html": [
       "<div>\n",
       "<style scoped>\n",
       "    .dataframe tbody tr th:only-of-type {\n",
       "        vertical-align: middle;\n",
       "    }\n",
       "\n",
       "    .dataframe tbody tr th {\n",
       "        vertical-align: top;\n",
       "    }\n",
       "\n",
       "    .dataframe thead th {\n",
       "        text-align: right;\n",
       "    }\n",
       "</style>\n",
       "<table border=\"1\" class=\"dataframe\">\n",
       "  <thead>\n",
       "    <tr style=\"text-align: right;\">\n",
       "      <th></th>\n",
       "      <th>peso</th>\n",
       "      <th>altura</th>\n",
       "      <th>edad</th>\n",
       "    </tr>\n",
       "  </thead>\n",
       "  <tbody>\n",
       "    <tr>\n",
       "      <th>Ana</th>\n",
       "      <td>59</td>\n",
       "      <td>177</td>\n",
       "      <td>24.0</td>\n",
       "    </tr>\n",
       "    <tr>\n",
       "      <th>Julia</th>\n",
       "      <td>66</td>\n",
       "      <td>165</td>\n",
       "      <td>NaN</td>\n",
       "    </tr>\n",
       "    <tr>\n",
       "      <th>Pedro</th>\n",
       "      <td>90</td>\n",
       "      <td>186</td>\n",
       "      <td>22.0</td>\n",
       "    </tr>\n",
       "    <tr>\n",
       "      <th>Santiago</th>\n",
       "      <td>84</td>\n",
       "      <td>183</td>\n",
       "      <td>23.0</td>\n",
       "    </tr>\n",
       "  </tbody>\n",
       "</table>\n",
       "</div>"
      ],
      "text/plain": [
       "          peso  altura  edad\n",
       "Ana         59     177  24.0\n",
       "Julia       66     165   NaN\n",
       "Pedro       90     186  22.0\n",
       "Santiago    84     183  23.0"
      ]
     },
     "execution_count": 11,
     "metadata": {},
     "output_type": "execute_result"
    }
   ],
   "source": [
    "personas = {\n",
    "    \"peso\": pd.Series([84, 90, 59, 66], [\"Santiago\", \"Pedro\", \"Ana\", \"Julia\"]),\n",
    "    \"altura\": pd.Series({\"Santiago\": 183, \"Pedro\": 186, \"Ana\": 177, \"Julia\":165}),\n",
    "    \"edad\": pd.Series([23, 22, 24], [\"Santiago\", \"Pedro\", \"Ana\"])    \n",
    "}\n",
    "\n",
    "pd.DataFrame(personas)"
   ]
  },
  {
   "cell_type": "markdown",
   "id": "7ebf3074",
   "metadata": {},
   "source": [
    "El objeto DataFrame es muy parecido al objeto Series, de hecho la diferencia radica en la dimensión de trabajo, ya que el objeto Series representa un estructura de una dimensión, mientras que el DataFrame representa una estructura de dos dimensiones. Además, como se puede observar en la salida anterior, trabajar con DataFrames facilita mucho la comprensión de los datos.\n",
    "\n",
    "Podemos también crear un objeto DataFrame a partir de objetos Series pero únicamente con ciertas columnas e índices:"
   ]
  },
  {
   "cell_type": "code",
   "execution_count": 12,
   "id": "bd718d4f",
   "metadata": {},
   "outputs": [
    {
     "data": {
      "text/html": [
       "<div>\n",
       "<style scoped>\n",
       "    .dataframe tbody tr th:only-of-type {\n",
       "        vertical-align: middle;\n",
       "    }\n",
       "\n",
       "    .dataframe tbody tr th {\n",
       "        vertical-align: top;\n",
       "    }\n",
       "\n",
       "    .dataframe thead th {\n",
       "        text-align: right;\n",
       "    }\n",
       "</style>\n",
       "<table border=\"1\" class=\"dataframe\">\n",
       "  <thead>\n",
       "    <tr style=\"text-align: right;\">\n",
       "      <th></th>\n",
       "      <th>altura</th>\n",
       "      <th>peso</th>\n",
       "    </tr>\n",
       "  </thead>\n",
       "  <tbody>\n",
       "    <tr>\n",
       "      <th>Pedro</th>\n",
       "      <td>186</td>\n",
       "      <td>90</td>\n",
       "    </tr>\n",
       "    <tr>\n",
       "      <th>Santiago</th>\n",
       "      <td>183</td>\n",
       "      <td>84</td>\n",
       "    </tr>\n",
       "  </tbody>\n",
       "</table>\n",
       "</div>"
      ],
      "text/plain": [
       "          altura  peso\n",
       "Pedro        186    90\n",
       "Santiago     183    84"
      ]
     },
     "execution_count": 12,
     "metadata": {},
     "output_type": "execute_result"
    }
   ],
   "source": [
    "pd.DataFrame(personas, columns=[\"altura\", \"peso\"], index=[\"Pedro\", \"Santiago\"])"
   ]
  },
  {
   "cell_type": "markdown",
   "id": "90a8bc43",
   "metadata": {},
   "source": [
    "También podemos crear un DataFrame a partir de listas anidadas de Python. En este caso es necesario indicar el nombre de las columnas y de las filas o índices"
   ]
  },
  {
   "cell_type": "code",
   "execution_count": 13,
   "id": "49dbaa8d",
   "metadata": {},
   "outputs": [
    {
     "data": {
      "text/html": [
       "<div>\n",
       "<style scoped>\n",
       "    .dataframe tbody tr th:only-of-type {\n",
       "        vertical-align: middle;\n",
       "    }\n",
       "\n",
       "    .dataframe tbody tr th {\n",
       "        vertical-align: top;\n",
       "    }\n",
       "\n",
       "    .dataframe thead th {\n",
       "        text-align: right;\n",
       "    }\n",
       "</style>\n",
       "<table border=\"1\" class=\"dataframe\">\n",
       "  <thead>\n",
       "    <tr style=\"text-align: right;\">\n",
       "      <th></th>\n",
       "      <th>altura</th>\n",
       "      <th>edad</th>\n",
       "      <th>peso</th>\n",
       "    </tr>\n",
       "  </thead>\n",
       "  <tbody>\n",
       "    <tr>\n",
       "      <th>Pedro</th>\n",
       "      <td>180</td>\n",
       "      <td>20</td>\n",
       "      <td>70</td>\n",
       "    </tr>\n",
       "    <tr>\n",
       "      <th>Santiago</th>\n",
       "      <td>171</td>\n",
       "      <td>21</td>\n",
       "      <td>81</td>\n",
       "    </tr>\n",
       "  </tbody>\n",
       "</table>\n",
       "</div>"
      ],
      "text/plain": [
       "          altura  edad  peso\n",
       "Pedro        180    20    70\n",
       "Santiago     171    21    81"
      ]
     },
     "execution_count": 13,
     "metadata": {},
     "output_type": "execute_result"
    }
   ],
   "source": [
    "data = [[180, 20, 70],\n",
    "        [171, 21, 81]]\n",
    "pd.DataFrame(data, columns=[\"altura\", \"edad\", \"peso\"], index=[\"Pedro\", \"Santiago\"])"
   ]
  },
  {
   "cell_type": "markdown",
   "id": "31a7472a",
   "metadata": {},
   "source": [
    "También podemos crear objetos de tipo DataFrame a partir de diccionarios de Python sin necesidad de convertirlos previamente a un objeto de tipo Series. "
   ]
  },
  {
   "cell_type": "code",
   "execution_count": 14,
   "id": "1aba4d3e",
   "metadata": {},
   "outputs": [
    {
     "data": {
      "text/html": [
       "<div>\n",
       "<style scoped>\n",
       "    .dataframe tbody tr th:only-of-type {\n",
       "        vertical-align: middle;\n",
       "    }\n",
       "\n",
       "    .dataframe tbody tr th {\n",
       "        vertical-align: top;\n",
       "    }\n",
       "\n",
       "    .dataframe thead th {\n",
       "        text-align: right;\n",
       "    }\n",
       "</style>\n",
       "<table border=\"1\" class=\"dataframe\">\n",
       "  <thead>\n",
       "    <tr style=\"text-align: right;\">\n",
       "      <th></th>\n",
       "      <th>altura</th>\n",
       "      <th>peso</th>\n",
       "      <th>edad</th>\n",
       "    </tr>\n",
       "  </thead>\n",
       "  <tbody>\n",
       "    <tr>\n",
       "      <th>Pedro</th>\n",
       "      <td>180</td>\n",
       "      <td>70</td>\n",
       "      <td>20</td>\n",
       "    </tr>\n",
       "    <tr>\n",
       "      <th>Santiago</th>\n",
       "      <td>171</td>\n",
       "      <td>81</td>\n",
       "      <td>21</td>\n",
       "    </tr>\n",
       "  </tbody>\n",
       "</table>\n",
       "</div>"
      ],
      "text/plain": [
       "          altura  peso  edad\n",
       "Pedro        180    70    20\n",
       "Santiago     171    81    21"
      ]
     },
     "execution_count": 14,
     "metadata": {},
     "output_type": "execute_result"
    }
   ],
   "source": [
    "data = {\"altura\": {\"Pedro\": 180, \"Santiago\": 171}, \n",
    "        \"peso\": {\"Pedro\": 70, \"Santiago\": 81},\n",
    "        \"edad\": {\"Pedro\": 20, \"Santiago\": 21}}\n",
    "pd.DataFrame(data)"
   ]
  },
  {
   "cell_type": "markdown",
   "id": "56a1882a",
   "metadata": {},
   "source": [
    "También es muy habitual cargar datos de un fichero de disco en formato csv, json, xml o html. Para ello, simplemente tenemos que llamar a la función read_csv, read_json, read_xml o read_html respectivamente indicando la ruta del fichero. En el siguiente ejemplo vamos a cargar y visualizar un fichero csv y, además, vamos a indicar cual va a ser la columna de indexación para facilitar las búsquedas y accesos por el nombre de la persona como teníamos en los ejemplos previos.  "
   ]
  },
  {
   "cell_type": "code",
   "execution_count": 15,
   "id": "046907ca",
   "metadata": {},
   "outputs": [
    {
     "data": {
      "text/html": [
       "<div>\n",
       "<style scoped>\n",
       "    .dataframe tbody tr th:only-of-type {\n",
       "        vertical-align: middle;\n",
       "    }\n",
       "\n",
       "    .dataframe tbody tr th {\n",
       "        vertical-align: top;\n",
       "    }\n",
       "\n",
       "    .dataframe thead th {\n",
       "        text-align: right;\n",
       "    }\n",
       "</style>\n",
       "<table border=\"1\" class=\"dataframe\">\n",
       "  <thead>\n",
       "    <tr style=\"text-align: right;\">\n",
       "      <th></th>\n",
       "      <th>edad</th>\n",
       "      <th>altura</th>\n",
       "      <th>peso</th>\n",
       "    </tr>\n",
       "    <tr>\n",
       "      <th>nombre</th>\n",
       "      <th></th>\n",
       "      <th></th>\n",
       "      <th></th>\n",
       "    </tr>\n",
       "  </thead>\n",
       "  <tbody>\n",
       "    <tr>\n",
       "      <th>Juan</th>\n",
       "      <td>34</td>\n",
       "      <td>175</td>\n",
       "      <td>70</td>\n",
       "    </tr>\n",
       "    <tr>\n",
       "      <th>Maria</th>\n",
       "      <td>28</td>\n",
       "      <td>165</td>\n",
       "      <td>60</td>\n",
       "    </tr>\n",
       "    <tr>\n",
       "      <th>Carlos</th>\n",
       "      <td>22</td>\n",
       "      <td>180</td>\n",
       "      <td>75</td>\n",
       "    </tr>\n",
       "    <tr>\n",
       "      <th>Elena</th>\n",
       "      <td>45</td>\n",
       "      <td>160</td>\n",
       "      <td>58</td>\n",
       "    </tr>\n",
       "    <tr>\n",
       "      <th>Pedro</th>\n",
       "      <td>31</td>\n",
       "      <td>170</td>\n",
       "      <td>68</td>\n",
       "    </tr>\n",
       "    <tr>\n",
       "      <th>Sara</th>\n",
       "      <td>29</td>\n",
       "      <td>163</td>\n",
       "      <td>55</td>\n",
       "    </tr>\n",
       "  </tbody>\n",
       "</table>\n",
       "</div>"
      ],
      "text/plain": [
       "        edad  altura  peso\n",
       "nombre                    \n",
       "Juan      34     175    70\n",
       "Maria     28     165    60\n",
       "Carlos    22     180    75\n",
       "Elena     45     160    58\n",
       "Pedro     31     170    68\n",
       "Sara      29     163    55"
      ]
     },
     "metadata": {},
     "output_type": "display_data"
    }
   ],
   "source": [
    "df = pd.read_csv(\"personas.csv\", index_col=\"nombre\")\n",
    "display(df)"
   ]
  },
  {
   "cell_type": "markdown",
   "id": "1c96195b",
   "metadata": {},
   "source": [
    "#### Acceso a los elementos del DataFrame\n",
    "\n",
    "Para acceder a las columnas del DataFrame hay que utilizar la siguiente sintaxis"
   ]
  },
  {
   "cell_type": "code",
   "execution_count": 16,
   "id": "056c8ffc",
   "metadata": {},
   "outputs": [
    {
     "data": {
      "text/plain": [
       "nombre\n",
       "Juan      34\n",
       "Maria     28\n",
       "Carlos    22\n",
       "Elena     45\n",
       "Pedro     31\n",
       "Sara      29\n",
       "Name: edad, dtype: int64"
      ]
     },
     "execution_count": 16,
     "metadata": {},
     "output_type": "execute_result"
    }
   ],
   "source": [
    "df[\"edad\"]"
   ]
  },
  {
   "cell_type": "markdown",
   "id": "b08582cc",
   "metadata": {},
   "source": [
    "Para acceder a un subconjunto del DataFrame con varias columnas podemos hacerlo como se muestra a continuación:"
   ]
  },
  {
   "cell_type": "code",
   "execution_count": 17,
   "id": "c9eee88d",
   "metadata": {},
   "outputs": [
    {
     "data": {
      "text/html": [
       "<div>\n",
       "<style scoped>\n",
       "    .dataframe tbody tr th:only-of-type {\n",
       "        vertical-align: middle;\n",
       "    }\n",
       "\n",
       "    .dataframe tbody tr th {\n",
       "        vertical-align: top;\n",
       "    }\n",
       "\n",
       "    .dataframe thead th {\n",
       "        text-align: right;\n",
       "    }\n",
       "</style>\n",
       "<table border=\"1\" class=\"dataframe\">\n",
       "  <thead>\n",
       "    <tr style=\"text-align: right;\">\n",
       "      <th></th>\n",
       "      <th>peso</th>\n",
       "      <th>edad</th>\n",
       "    </tr>\n",
       "    <tr>\n",
       "      <th>nombre</th>\n",
       "      <th></th>\n",
       "      <th></th>\n",
       "    </tr>\n",
       "  </thead>\n",
       "  <tbody>\n",
       "    <tr>\n",
       "      <th>Juan</th>\n",
       "      <td>70</td>\n",
       "      <td>34</td>\n",
       "    </tr>\n",
       "    <tr>\n",
       "      <th>Maria</th>\n",
       "      <td>60</td>\n",
       "      <td>28</td>\n",
       "    </tr>\n",
       "    <tr>\n",
       "      <th>Carlos</th>\n",
       "      <td>75</td>\n",
       "      <td>22</td>\n",
       "    </tr>\n",
       "    <tr>\n",
       "      <th>Elena</th>\n",
       "      <td>58</td>\n",
       "      <td>45</td>\n",
       "    </tr>\n",
       "    <tr>\n",
       "      <th>Pedro</th>\n",
       "      <td>68</td>\n",
       "      <td>31</td>\n",
       "    </tr>\n",
       "    <tr>\n",
       "      <th>Sara</th>\n",
       "      <td>55</td>\n",
       "      <td>29</td>\n",
       "    </tr>\n",
       "  </tbody>\n",
       "</table>\n",
       "</div>"
      ],
      "text/plain": [
       "        peso  edad\n",
       "nombre            \n",
       "Juan      70    34\n",
       "Maria     60    28\n",
       "Carlos    75    22\n",
       "Elena     58    45\n",
       "Pedro     68    31\n",
       "Sara      55    29"
      ]
     },
     "execution_count": 17,
     "metadata": {},
     "output_type": "execute_result"
    }
   ],
   "source": [
    "df[[\"peso\", \"edad\"]]"
   ]
  },
  {
   "cell_type": "markdown",
   "id": "b4aa8011",
   "metadata": {},
   "source": [
    "Esta estructura de datos también nos permite combinar los métodos anteriores con expresiones booleanas para obtener un subconjunto del DataFrame evaluado con nuestra expresión"
   ]
  },
  {
   "cell_type": "code",
   "execution_count": 18,
   "id": "77ba7f1a",
   "metadata": {},
   "outputs": [
    {
     "data": {
      "text/html": [
       "<div>\n",
       "<style scoped>\n",
       "    .dataframe tbody tr th:only-of-type {\n",
       "        vertical-align: middle;\n",
       "    }\n",
       "\n",
       "    .dataframe tbody tr th {\n",
       "        vertical-align: top;\n",
       "    }\n",
       "\n",
       "    .dataframe thead th {\n",
       "        text-align: right;\n",
       "    }\n",
       "</style>\n",
       "<table border=\"1\" class=\"dataframe\">\n",
       "  <thead>\n",
       "    <tr style=\"text-align: right;\">\n",
       "      <th></th>\n",
       "      <th>edad</th>\n",
       "      <th>altura</th>\n",
       "      <th>peso</th>\n",
       "    </tr>\n",
       "    <tr>\n",
       "      <th>nombre</th>\n",
       "      <th></th>\n",
       "      <th></th>\n",
       "      <th></th>\n",
       "    </tr>\n",
       "  </thead>\n",
       "  <tbody>\n",
       "    <tr>\n",
       "      <th>Carlos</th>\n",
       "      <td>22</td>\n",
       "      <td>180</td>\n",
       "      <td>75</td>\n",
       "    </tr>\n",
       "  </tbody>\n",
       "</table>\n",
       "</div>"
      ],
      "text/plain": [
       "        edad  altura  peso\n",
       "nombre                    \n",
       "Carlos    22     180    75"
      ]
     },
     "execution_count": 18,
     "metadata": {},
     "output_type": "execute_result"
    }
   ],
   "source": [
    "df[df[\"peso\"] > 70]"
   ]
  },
  {
   "cell_type": "markdown",
   "id": "17de328b",
   "metadata": {},
   "source": [
    "Al igual que ocurría con el objeto Series, podemos acceder a la fila a través del índice utilizando el atributo loc. Si queremos acceder a la fila en función del índice de posición podemos también utilizar el atributo iloc."
   ]
  },
  {
   "cell_type": "code",
   "execution_count": 19,
   "id": "5e50edc0",
   "metadata": {},
   "outputs": [
    {
     "name": "stdout",
     "output_type": "stream",
     "text": [
      "edad       31\n",
      "altura    170\n",
      "peso       68\n",
      "Name: Pedro, dtype: int64\n",
      "\n",
      "edad       31\n",
      "altura    170\n",
      "peso       68\n",
      "Name: Pedro, dtype: int64\n"
     ]
    }
   ],
   "source": [
    "print(df.loc[\"Pedro\"])\n",
    "print()\n",
    "print(df.iloc[4])"
   ]
  },
  {
   "cell_type": "markdown",
   "id": "7506660c",
   "metadata": {},
   "source": [
    "De la misma forma también que para el objeto Series, podemos realizar operaciones de slice como:"
   ]
  },
  {
   "cell_type": "code",
   "execution_count": 20,
   "id": "1104763c",
   "metadata": {},
   "outputs": [
    {
     "data": {
      "text/html": [
       "<div>\n",
       "<style scoped>\n",
       "    .dataframe tbody tr th:only-of-type {\n",
       "        vertical-align: middle;\n",
       "    }\n",
       "\n",
       "    .dataframe tbody tr th {\n",
       "        vertical-align: top;\n",
       "    }\n",
       "\n",
       "    .dataframe thead th {\n",
       "        text-align: right;\n",
       "    }\n",
       "</style>\n",
       "<table border=\"1\" class=\"dataframe\">\n",
       "  <thead>\n",
       "    <tr style=\"text-align: right;\">\n",
       "      <th></th>\n",
       "      <th>edad</th>\n",
       "      <th>altura</th>\n",
       "      <th>peso</th>\n",
       "    </tr>\n",
       "    <tr>\n",
       "      <th>nombre</th>\n",
       "      <th></th>\n",
       "      <th></th>\n",
       "      <th></th>\n",
       "    </tr>\n",
       "  </thead>\n",
       "  <tbody>\n",
       "    <tr>\n",
       "      <th>Maria</th>\n",
       "      <td>28</td>\n",
       "      <td>165</td>\n",
       "      <td>60</td>\n",
       "    </tr>\n",
       "    <tr>\n",
       "      <th>Carlos</th>\n",
       "      <td>22</td>\n",
       "      <td>180</td>\n",
       "      <td>75</td>\n",
       "    </tr>\n",
       "  </tbody>\n",
       "</table>\n",
       "</div>"
      ],
      "text/plain": [
       "        edad  altura  peso\n",
       "nombre                    \n",
       "Maria     28     165    60\n",
       "Carlos    22     180    75"
      ]
     },
     "execution_count": 20,
     "metadata": {},
     "output_type": "execute_result"
    }
   ],
   "source": [
    "df.iloc[1:3]"
   ]
  },
  {
   "cell_type": "markdown",
   "id": "d18e8cc1",
   "metadata": {},
   "source": [
    "#### Consultas avanzadas sobre DataFrames\n",
    "\n",
    "Podemos utilizar la función query para realizar consultas más avanzadas en nuestro DataFrame con un lenguaje muy sencillo. Por ejemplo:"
   ]
  },
  {
   "cell_type": "code",
   "execution_count": 21,
   "id": "d2541eae",
   "metadata": {},
   "outputs": [
    {
     "data": {
      "text/html": [
       "<div>\n",
       "<style scoped>\n",
       "    .dataframe tbody tr th:only-of-type {\n",
       "        vertical-align: middle;\n",
       "    }\n",
       "\n",
       "    .dataframe tbody tr th {\n",
       "        vertical-align: top;\n",
       "    }\n",
       "\n",
       "    .dataframe thead th {\n",
       "        text-align: right;\n",
       "    }\n",
       "</style>\n",
       "<table border=\"1\" class=\"dataframe\">\n",
       "  <thead>\n",
       "    <tr style=\"text-align: right;\">\n",
       "      <th></th>\n",
       "      <th>edad</th>\n",
       "      <th>altura</th>\n",
       "      <th>peso</th>\n",
       "    </tr>\n",
       "    <tr>\n",
       "      <th>nombre</th>\n",
       "      <th></th>\n",
       "      <th></th>\n",
       "      <th></th>\n",
       "    </tr>\n",
       "  </thead>\n",
       "  <tbody>\n",
       "    <tr>\n",
       "      <th>Juan</th>\n",
       "      <td>34</td>\n",
       "      <td>175</td>\n",
       "      <td>70</td>\n",
       "    </tr>\n",
       "    <tr>\n",
       "      <th>Carlos</th>\n",
       "      <td>22</td>\n",
       "      <td>180</td>\n",
       "      <td>75</td>\n",
       "    </tr>\n",
       "  </tbody>\n",
       "</table>\n",
       "</div>"
      ],
      "text/plain": [
       "        edad  altura  peso\n",
       "nombre                    \n",
       "Juan      34     175    70\n",
       "Carlos    22     180    75"
      ]
     },
     "execution_count": 21,
     "metadata": {},
     "output_type": "execute_result"
    }
   ],
   "source": [
    "df.query(\"altura >= 165 and peso >= 70\")"
   ]
  },
  {
   "cell_type": "markdown",
   "id": "f8224186",
   "metadata": {},
   "source": [
    "#### Modificar un DataFrame\n",
    "\n",
    "Este objeto es mutable, lo que implica que se puede modificar. Pandas ofrece multiples funciones para modificar este objeto, entre las cuales podemos añadir y borrar columnas, filas, etc."
   ]
  },
  {
   "cell_type": "markdown",
   "id": "86de5076",
   "metadata": {},
   "source": [
    "Podemos añadir columnas de forma muy sencilla, por ejemplo:"
   ]
  },
  {
   "cell_type": "code",
   "execution_count": 22,
   "id": "96b989f4",
   "metadata": {},
   "outputs": [
    {
     "data": {
      "text/html": [
       "<div>\n",
       "<style scoped>\n",
       "    .dataframe tbody tr th:only-of-type {\n",
       "        vertical-align: middle;\n",
       "    }\n",
       "\n",
       "    .dataframe tbody tr th {\n",
       "        vertical-align: top;\n",
       "    }\n",
       "\n",
       "    .dataframe thead th {\n",
       "        text-align: right;\n",
       "    }\n",
       "</style>\n",
       "<table border=\"1\" class=\"dataframe\">\n",
       "  <thead>\n",
       "    <tr style=\"text-align: right;\">\n",
       "      <th></th>\n",
       "      <th>edad</th>\n",
       "      <th>altura</th>\n",
       "      <th>peso</th>\n",
       "      <th>sexo</th>\n",
       "    </tr>\n",
       "    <tr>\n",
       "      <th>nombre</th>\n",
       "      <th></th>\n",
       "      <th></th>\n",
       "      <th></th>\n",
       "      <th></th>\n",
       "    </tr>\n",
       "  </thead>\n",
       "  <tbody>\n",
       "    <tr>\n",
       "      <th>Juan</th>\n",
       "      <td>34</td>\n",
       "      <td>175</td>\n",
       "      <td>70</td>\n",
       "      <td>H</td>\n",
       "    </tr>\n",
       "    <tr>\n",
       "      <th>Maria</th>\n",
       "      <td>28</td>\n",
       "      <td>165</td>\n",
       "      <td>60</td>\n",
       "      <td>M</td>\n",
       "    </tr>\n",
       "    <tr>\n",
       "      <th>Carlos</th>\n",
       "      <td>22</td>\n",
       "      <td>180</td>\n",
       "      <td>75</td>\n",
       "      <td>H</td>\n",
       "    </tr>\n",
       "    <tr>\n",
       "      <th>Elena</th>\n",
       "      <td>45</td>\n",
       "      <td>160</td>\n",
       "      <td>58</td>\n",
       "      <td>M</td>\n",
       "    </tr>\n",
       "    <tr>\n",
       "      <th>Pedro</th>\n",
       "      <td>31</td>\n",
       "      <td>170</td>\n",
       "      <td>68</td>\n",
       "      <td>H</td>\n",
       "    </tr>\n",
       "    <tr>\n",
       "      <th>Sara</th>\n",
       "      <td>29</td>\n",
       "      <td>163</td>\n",
       "      <td>55</td>\n",
       "      <td>M</td>\n",
       "    </tr>\n",
       "  </tbody>\n",
       "</table>\n",
       "</div>"
      ],
      "text/plain": [
       "        edad  altura  peso sexo\n",
       "nombre                         \n",
       "Juan      34     175    70    H\n",
       "Maria     28     165    60    M\n",
       "Carlos    22     180    75    H\n",
       "Elena     45     160    58    M\n",
       "Pedro     31     170    68    H\n",
       "Sara      29     163    55    M"
      ]
     },
     "metadata": {},
     "output_type": "display_data"
    }
   ],
   "source": [
    "df[\"sexo\"] = [\"H\", \"M\", \"H\", \"M\", \"H\", \"M\"]\n",
    "display(df)"
   ]
  },
  {
   "cell_type": "markdown",
   "id": "50b2a7d2",
   "metadata": {},
   "source": [
    "Incluso también podemos añadir columnas calculadas a partir de datos existentes en el propio DataFrame. Por ejemplo, si queremos calcular el año de nacimiento a partir de la edad de la persona."
   ]
  },
  {
   "cell_type": "code",
   "execution_count": 23,
   "id": "85079f01",
   "metadata": {},
   "outputs": [
    {
     "data": {
      "text/html": [
       "<div>\n",
       "<style scoped>\n",
       "    .dataframe tbody tr th:only-of-type {\n",
       "        vertical-align: middle;\n",
       "    }\n",
       "\n",
       "    .dataframe tbody tr th {\n",
       "        vertical-align: top;\n",
       "    }\n",
       "\n",
       "    .dataframe thead th {\n",
       "        text-align: right;\n",
       "    }\n",
       "</style>\n",
       "<table border=\"1\" class=\"dataframe\">\n",
       "  <thead>\n",
       "    <tr style=\"text-align: right;\">\n",
       "      <th></th>\n",
       "      <th>edad</th>\n",
       "      <th>altura</th>\n",
       "      <th>peso</th>\n",
       "      <th>sexo</th>\n",
       "      <th>nacimiento</th>\n",
       "    </tr>\n",
       "    <tr>\n",
       "      <th>nombre</th>\n",
       "      <th></th>\n",
       "      <th></th>\n",
       "      <th></th>\n",
       "      <th></th>\n",
       "      <th></th>\n",
       "    </tr>\n",
       "  </thead>\n",
       "  <tbody>\n",
       "    <tr>\n",
       "      <th>Juan</th>\n",
       "      <td>34</td>\n",
       "      <td>175</td>\n",
       "      <td>70</td>\n",
       "      <td>H</td>\n",
       "      <td>1989</td>\n",
       "    </tr>\n",
       "    <tr>\n",
       "      <th>Maria</th>\n",
       "      <td>28</td>\n",
       "      <td>165</td>\n",
       "      <td>60</td>\n",
       "      <td>M</td>\n",
       "      <td>1995</td>\n",
       "    </tr>\n",
       "    <tr>\n",
       "      <th>Carlos</th>\n",
       "      <td>22</td>\n",
       "      <td>180</td>\n",
       "      <td>75</td>\n",
       "      <td>H</td>\n",
       "      <td>2001</td>\n",
       "    </tr>\n",
       "    <tr>\n",
       "      <th>Elena</th>\n",
       "      <td>45</td>\n",
       "      <td>160</td>\n",
       "      <td>58</td>\n",
       "      <td>M</td>\n",
       "      <td>1978</td>\n",
       "    </tr>\n",
       "    <tr>\n",
       "      <th>Pedro</th>\n",
       "      <td>31</td>\n",
       "      <td>170</td>\n",
       "      <td>68</td>\n",
       "      <td>H</td>\n",
       "      <td>1992</td>\n",
       "    </tr>\n",
       "    <tr>\n",
       "      <th>Sara</th>\n",
       "      <td>29</td>\n",
       "      <td>163</td>\n",
       "      <td>55</td>\n",
       "      <td>M</td>\n",
       "      <td>1994</td>\n",
       "    </tr>\n",
       "  </tbody>\n",
       "</table>\n",
       "</div>"
      ],
      "text/plain": [
       "        edad  altura  peso sexo  nacimiento\n",
       "nombre                                     \n",
       "Juan      34     175    70    H        1989\n",
       "Maria     28     165    60    M        1995\n",
       "Carlos    22     180    75    H        2001\n",
       "Elena     45     160    58    M        1978\n",
       "Pedro     31     170    68    H        1992\n",
       "Sara      29     163    55    M        1994"
      ]
     },
     "metadata": {},
     "output_type": "display_data"
    }
   ],
   "source": [
    "df[\"nacimiento\"] = 2023 - df[\"edad\"]\n",
    "display(df)"
   ]
  },
  {
   "cell_type": "markdown",
   "id": "bcd91def",
   "metadata": {},
   "source": [
    "Es importante destacar que este tipo de operaciones es mucho más eficiente que si las intenamos hacer a partir de bucles."
   ]
  },
  {
   "cell_type": "markdown",
   "id": "0381abb2",
   "metadata": {},
   "source": [
    "Si queremos eliminar una columna existente del DataFrame, simplemente debemos utilizar la palabra reservada del de python indicando la columna que deseamos borrar."
   ]
  },
  {
   "cell_type": "code",
   "execution_count": 24,
   "id": "8046cb8d",
   "metadata": {},
   "outputs": [
    {
     "data": {
      "text/html": [
       "<div>\n",
       "<style scoped>\n",
       "    .dataframe tbody tr th:only-of-type {\n",
       "        vertical-align: middle;\n",
       "    }\n",
       "\n",
       "    .dataframe tbody tr th {\n",
       "        vertical-align: top;\n",
       "    }\n",
       "\n",
       "    .dataframe thead th {\n",
       "        text-align: right;\n",
       "    }\n",
       "</style>\n",
       "<table border=\"1\" class=\"dataframe\">\n",
       "  <thead>\n",
       "    <tr style=\"text-align: right;\">\n",
       "      <th></th>\n",
       "      <th>edad</th>\n",
       "      <th>altura</th>\n",
       "      <th>peso</th>\n",
       "      <th>nacimiento</th>\n",
       "    </tr>\n",
       "    <tr>\n",
       "      <th>nombre</th>\n",
       "      <th></th>\n",
       "      <th></th>\n",
       "      <th></th>\n",
       "      <th></th>\n",
       "    </tr>\n",
       "  </thead>\n",
       "  <tbody>\n",
       "    <tr>\n",
       "      <th>Juan</th>\n",
       "      <td>34</td>\n",
       "      <td>175</td>\n",
       "      <td>70</td>\n",
       "      <td>1989</td>\n",
       "    </tr>\n",
       "    <tr>\n",
       "      <th>Maria</th>\n",
       "      <td>28</td>\n",
       "      <td>165</td>\n",
       "      <td>60</td>\n",
       "      <td>1995</td>\n",
       "    </tr>\n",
       "    <tr>\n",
       "      <th>Carlos</th>\n",
       "      <td>22</td>\n",
       "      <td>180</td>\n",
       "      <td>75</td>\n",
       "      <td>2001</td>\n",
       "    </tr>\n",
       "    <tr>\n",
       "      <th>Elena</th>\n",
       "      <td>45</td>\n",
       "      <td>160</td>\n",
       "      <td>58</td>\n",
       "      <td>1978</td>\n",
       "    </tr>\n",
       "    <tr>\n",
       "      <th>Pedro</th>\n",
       "      <td>31</td>\n",
       "      <td>170</td>\n",
       "      <td>68</td>\n",
       "      <td>1992</td>\n",
       "    </tr>\n",
       "    <tr>\n",
       "      <th>Sara</th>\n",
       "      <td>29</td>\n",
       "      <td>163</td>\n",
       "      <td>55</td>\n",
       "      <td>1994</td>\n",
       "    </tr>\n",
       "  </tbody>\n",
       "</table>\n",
       "</div>"
      ],
      "text/plain": [
       "        edad  altura  peso  nacimiento\n",
       "nombre                                \n",
       "Juan      34     175    70        1989\n",
       "Maria     28     165    60        1995\n",
       "Carlos    22     180    75        2001\n",
       "Elena     45     160    58        1978\n",
       "Pedro     31     170    68        1992\n",
       "Sara      29     163    55        1994"
      ]
     },
     "metadata": {},
     "output_type": "display_data"
    }
   ],
   "source": [
    "del df[\"sexo\"]\n",
    "display(df)"
   ]
  },
  {
   "cell_type": "markdown",
   "id": "6b2de8fd",
   "metadata": {},
   "source": [
    "#### Evaluación del dataframe\n",
    "\n",
    "El objeto DataFrame tiene una función muy potente que nos permite evaluar una instancia de forma muy eficiente. Por ejemplo, podemos dividir la altura "
   ]
  },
  {
   "cell_type": "code",
   "execution_count": 25,
   "id": "525fe7bd",
   "metadata": {},
   "outputs": [
    {
     "data": {
      "text/plain": [
       "nombre\n",
       "Juan      87.5\n",
       "Maria     82.5\n",
       "Carlos    90.0\n",
       "Elena     80.0\n",
       "Pedro     85.0\n",
       "Sara      81.5\n",
       "Name: altura, dtype: float64"
      ]
     },
     "execution_count": 25,
     "metadata": {},
     "output_type": "execute_result"
    }
   ],
   "source": [
    "df.eval(\"altura / 2\")"
   ]
  },
  {
   "cell_type": "markdown",
   "id": "8d157a3c",
   "metadata": {},
   "source": [
    "También podemos guardar ese resultado en el propio DataFrame como una nueva columna, utilizando el parámetro inplace:"
   ]
  },
  {
   "cell_type": "code",
   "execution_count": 26,
   "id": "7ced6941",
   "metadata": {},
   "outputs": [
    {
     "data": {
      "text/html": [
       "<div>\n",
       "<style scoped>\n",
       "    .dataframe tbody tr th:only-of-type {\n",
       "        vertical-align: middle;\n",
       "    }\n",
       "\n",
       "    .dataframe tbody tr th {\n",
       "        vertical-align: top;\n",
       "    }\n",
       "\n",
       "    .dataframe thead th {\n",
       "        text-align: right;\n",
       "    }\n",
       "</style>\n",
       "<table border=\"1\" class=\"dataframe\">\n",
       "  <thead>\n",
       "    <tr style=\"text-align: right;\">\n",
       "      <th></th>\n",
       "      <th>edad</th>\n",
       "      <th>altura</th>\n",
       "      <th>peso</th>\n",
       "      <th>nacimiento</th>\n",
       "      <th>media_altura</th>\n",
       "    </tr>\n",
       "    <tr>\n",
       "      <th>nombre</th>\n",
       "      <th></th>\n",
       "      <th></th>\n",
       "      <th></th>\n",
       "      <th></th>\n",
       "      <th></th>\n",
       "    </tr>\n",
       "  </thead>\n",
       "  <tbody>\n",
       "    <tr>\n",
       "      <th>Juan</th>\n",
       "      <td>34</td>\n",
       "      <td>175</td>\n",
       "      <td>70</td>\n",
       "      <td>1989</td>\n",
       "      <td>87.5</td>\n",
       "    </tr>\n",
       "    <tr>\n",
       "      <th>Maria</th>\n",
       "      <td>28</td>\n",
       "      <td>165</td>\n",
       "      <td>60</td>\n",
       "      <td>1995</td>\n",
       "      <td>82.5</td>\n",
       "    </tr>\n",
       "    <tr>\n",
       "      <th>Carlos</th>\n",
       "      <td>22</td>\n",
       "      <td>180</td>\n",
       "      <td>75</td>\n",
       "      <td>2001</td>\n",
       "      <td>90.0</td>\n",
       "    </tr>\n",
       "    <tr>\n",
       "      <th>Elena</th>\n",
       "      <td>45</td>\n",
       "      <td>160</td>\n",
       "      <td>58</td>\n",
       "      <td>1978</td>\n",
       "      <td>80.0</td>\n",
       "    </tr>\n",
       "    <tr>\n",
       "      <th>Pedro</th>\n",
       "      <td>31</td>\n",
       "      <td>170</td>\n",
       "      <td>68</td>\n",
       "      <td>1992</td>\n",
       "      <td>85.0</td>\n",
       "    </tr>\n",
       "    <tr>\n",
       "      <th>Sara</th>\n",
       "      <td>29</td>\n",
       "      <td>163</td>\n",
       "      <td>55</td>\n",
       "      <td>1994</td>\n",
       "      <td>81.5</td>\n",
       "    </tr>\n",
       "  </tbody>\n",
       "</table>\n",
       "</div>"
      ],
      "text/plain": [
       "        edad  altura  peso  nacimiento  media_altura\n",
       "nombre                                              \n",
       "Juan      34     175    70        1989          87.5\n",
       "Maria     28     165    60        1995          82.5\n",
       "Carlos    22     180    75        2001          90.0\n",
       "Elena     45     160    58        1978          80.0\n",
       "Pedro     31     170    68        1992          85.0\n",
       "Sara      29     163    55        1994          81.5"
      ]
     },
     "metadata": {},
     "output_type": "display_data"
    }
   ],
   "source": [
    "df.eval(\"media_altura = altura / 2\", inplace=True)\n",
    "display(df)"
   ]
  },
  {
   "cell_type": "markdown",
   "id": "c86a2161",
   "metadata": {},
   "source": [
    "Incluso podemos hacer uso de variables con la función eval."
   ]
  },
  {
   "cell_type": "code",
   "execution_count": 27,
   "id": "66597ccc",
   "metadata": {},
   "outputs": [
    {
     "data": {
      "text/plain": [
       "nombre\n",
       "Juan       True\n",
       "Maria     False\n",
       "Carlos     True\n",
       "Elena     False\n",
       "Pedro     False\n",
       "Sara      False\n",
       "Name: altura, dtype: bool"
      ]
     },
     "execution_count": 27,
     "metadata": {},
     "output_type": "execute_result"
    }
   ],
   "source": [
    "corte_altura = 175\n",
    "df.eval(\"altura >= @corte_altura\")"
   ]
  },
  {
   "cell_type": "markdown",
   "id": "e80ab351",
   "metadata": {},
   "source": [
    "También podemos aplicar funciones externas utilizando la función apply"
   ]
  },
  {
   "cell_type": "code",
   "execution_count": 28,
   "id": "f24539b5",
   "metadata": {},
   "outputs": [
    {
     "data": {
      "text/plain": [
       "nombre\n",
       "Juan      72\n",
       "Maria     62\n",
       "Carlos    77\n",
       "Elena     60\n",
       "Pedro     70\n",
       "Sara      57\n",
       "Name: peso, dtype: int64"
      ]
     },
     "execution_count": 28,
     "metadata": {},
     "output_type": "execute_result"
    }
   ],
   "source": [
    "def foo(x):\n",
    "    return x + 2\n",
    "\n",
    "df[\"peso\"].apply(foo)"
   ]
  },
  {
   "cell_type": "markdown",
   "id": "d6e26cf4",
   "metadata": {},
   "source": [
    "#### Guardar el DataFrame y otras operaciones"
   ]
  },
  {
   "cell_type": "code",
   "execution_count": 29,
   "id": "5de9d46a",
   "metadata": {},
   "outputs": [],
   "source": [
    "df_copy = df.copy()"
   ]
  },
  {
   "cell_type": "code",
   "execution_count": 30,
   "id": "8f71ed5b",
   "metadata": {},
   "outputs": [],
   "source": [
    "df.to_csv(\"df_personas.csv\")\n",
    "df.to_html(\"df_personas.html\")\n",
    "df.to_json(\"df_personas.json\")"
   ]
  }
 ],
 "metadata": {
  "kernelspec": {
   "display_name": "Python 3 (ipykernel)",
   "language": "python",
   "name": "python3"
  },
  "language_info": {
   "codemirror_mode": {
    "name": "ipython",
    "version": 3
   },
   "file_extension": ".py",
   "mimetype": "text/x-python",
   "name": "python",
   "nbconvert_exporter": "python",
   "pygments_lexer": "ipython3",
   "version": "3.11.3"
  }
 },
 "nbformat": 4,
 "nbformat_minor": 5
}
